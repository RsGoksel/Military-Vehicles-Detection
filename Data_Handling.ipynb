{
 "cells": [
  {
   "cell_type": "code",
   "execution_count": null,
   "id": "60e6a7c0-23fa-42f0-83e9-9e90d01f1bc9",
   "metadata": {
    "tags": []
   },
   "outputs": [],
   "source": [
    "\n",
    "from IPython.display import Image  # for displaying images\n",
    "import os \n",
    "import random\n",
    "import numpy as np\n",
    "import matplotlib.pyplot as plt\n",
    "\n",
    "from xml.dom import minidom\n",
    "from tqdm import tqdm\n",
    "from PIL import Image, ImageDraw\n",
    "\n",
    "import shutil\n",
    "from sklearn.model_selection import train_test_split\n",
    "import xml.etree.ElementTree as ET\n",
    "\n",
    "import torch"
   ]
  },
  {
   "cell_type": "code",
   "execution_count": null,
   "id": "6ad6e004-f96f-49c8-9278-4bcbcce95394",
   "metadata": {
    "tags": []
   },
   "outputs": [],
   "source": [
    "import xml.etree.ElementTree as ET\n",
    "\n",
    "def extract_info_from_xml(xml_file_path):\n",
    "    tree = ET.parse(xml_file_path)\n",
    "    root = tree.getroot()\n",
    "\n",
    "    info_dict = {\n",
    "        'filename': None,\n",
    "        'image_size': None,\n",
    "        'bboxes': []\n",
    "    }\n",
    "\n",
    "    for elem in root:\n",
    "        if elem.tag == \"filename\":\n",
    "            info_dict['filename'] = elem.text\n",
    "\n",
    "        elif elem.tag == \"size\":\n",
    "            image_size = [int(subelem.text) for subelem in elem]\n",
    "            info_dict['image_size'] = tuple(image_size)\n",
    "\n",
    "        elif elem.tag == \"object\":\n",
    "            bbox = {}\n",
    "            for subelem in elem:\n",
    "                if subelem.tag == \"name\":\n",
    "                    bbox[\"class\"] = subelem.text\n",
    "                elif subelem.tag == \"bndbox\":\n",
    "                    for subsubelem in subelem:\n",
    "                        bbox[subsubelem.tag] = int(subsubelem.text)\n",
    "            info_dict['bboxes'].append(bbox)\n",
    "\n",
    "    return info_dict\n",
    "\n",
    "print(extract_info_from_xml('ArmaCV_dataset/labels/complex (24).xml'))\n"
   ]
  },
  {
   "cell_type": "code",
   "execution_count": null,
   "id": "4783236d-7c53-4c0f-8650-a6914c494570",
   "metadata": {
    "tags": []
   },
   "outputs": [],
   "source": [
    "import os\n",
    "\n",
    "# Dictionary that maps class names to IDs\n",
    "class_name_to_id_mapping = {\"marid\": 0, \"zamak\": 1, \"complex\":2, \"varsuk\":3 }\n",
    "\n",
    "# Convert the info dict to the required YOLOv5 format and write it to disk\n",
    "def convert_to_yolov5(info_dict):\n",
    "    annotations = []\n",
    "\n",
    "    # For each bounding box\n",
    "    for b in info_dict[\"bboxes\"]:\n",
    "        class_name = b[\"class\"]\n",
    "\n",
    "        # Check if the class exists in the mapping\n",
    "        if class_name not in class_name_to_id_mapping:\n",
    "            print(\"Invalid Class. Must be one from\", list(class_name_to_id_mapping.keys()))\n",
    "            continue\n",
    "\n",
    "        class_id = class_name_to_id_mapping[class_name]\n",
    "\n",
    "        # Transform the bbox co-ordinates as per the format required by YOLOv5\n",
    "        b_center_x = (b[\"xmin\"] + b[\"xmax\"]) / 2\n",
    "        b_center_y = (b[\"ymin\"] + b[\"ymax\"]) / 2\n",
    "        b_width = (b[\"xmax\"] - b[\"xmin\"])\n",
    "        b_height = (b[\"ymax\"] - b[\"ymin\"])\n",
    "\n",
    "        # Normalize the co-ordinates by the dimensions of the image\n",
    "        image_w, image_h, _ = info_dict[\"image_size\"]\n",
    "        b_center_x /= image_w\n",
    "        b_center_y /= image_h\n",
    "        b_width /= image_w\n",
    "        b_height /= image_h\n",
    "\n",
    "        # Add the annotation to the list\n",
    "        annotations.append(f\"{class_id} {b_center_x:.3f} {b_center_y:.3f} {b_width:.3f} {b_height:.3f}\")\n",
    "\n",
    "    # Name of the file to save\n",
    "    save_file_name = os.path.join(\"./annotations\", info_dict[\"filename\"].replace(\"png\", \"txt\"))\n",
    "\n",
    "    # Save the annotations to disk\n",
    "    with open(save_file_name, \"w\") as file:\n",
    "        file.write(\"\\n\".join(annotations))\n"
   ]
  },
  {
   "cell_type": "code",
   "execution_count": null,
   "id": "1317a4b0-fea4-461f-b00c-f05c675ccb03",
   "metadata": {
    "tags": []
   },
   "outputs": [],
   "source": [
    "# Get the annotations\n",
    "annotations = [os.path.join('./annotations/', x) for x in os.listdir('./annotations/') if x[-3:] == \"xml\"]\n",
    "annotations.sort()\n",
    "\n",
    "# Convert and save the annotations\n",
    "for ann in tqdm(annotations):\n",
    "    info_dict = extract_info_from_xml(ann)\n",
    "    convert_to_yolov5(info_dict)\n",
    "    \n",
    "annotations = [os.path.join('./annotations/', x) for x in os.listdir('./annotations/') if x[-3:] == \"txt\"]"
   ]
  },
  {
   "cell_type": "code",
   "execution_count": null,
   "id": "1681f188-6ff4-4f05-b695-163ff2dbbfc3",
   "metadata": {
    "tags": []
   },
   "outputs": [],
   "source": [
    "class_name_to_id_mapping = {\"marid\": 0, \"zamak\": 1, \"complex\":2, \"varsuk\":3 }\n",
    "\n",
    "annotations = [os.path.join('./', x) for x in os.listdir('./annotations') if x[-3:] == \"txt\"]\n",
    "annotations"
   ]
  },
  {
   "cell_type": "code",
   "execution_count": null,
   "id": "f181e960-3651-4f5a-81f8-01f591f7c081",
   "metadata": {
    "tags": []
   },
   "outputs": [],
   "source": [
    "class_id_to_name_mapping = dict(zip(class_name_to_id_mapping.values(), class_name_to_id_mapping.keys()))\n",
    "\n",
    "def plot_bounding_box(image, annotation_list):\n",
    "    annotations = np.array(annotation_list)\n",
    "    w, h = image.size\n",
    "    \n",
    "    plotted_image = ImageDraw.Draw(image)\n",
    "\n",
    "    transformed_annotations = np.copy(annotations)\n",
    "    transformed_annotations = transformed_annotations.reshape(-1, 5)  # Reshape to (num_annotations, num_attributes)\n",
    "    transformed_annotations[:,[1,3]] = transformed_annotations[:,[1,3]] * w\n",
    "    transformed_annotations[:,[2,4]] = transformed_annotations[:,[2,4]] * h \n",
    "    \n",
    "    transformed_annotations[:,1] = transformed_annotations[:,1] - (transformed_annotations[:,3] / 2)\n",
    "    transformed_annotations[:,2] = transformed_annotations[:,2] - (transformed_annotations[:,4] / 2)\n",
    "    transformed_annotations[:,3] = transformed_annotations[:,1] + transformed_annotations[:,3]\n",
    "    transformed_annotations[:,4] = transformed_annotations[:,2] + transformed_annotations[:,4]\n",
    "    \n",
    "    for ann in transformed_annotations:\n",
    "        obj_cls, x0, y0, x1, y1 = ann\n",
    "        plotted_image.rectangle(((x0,y0), (x1,y1)))\n",
    "        \n",
    "        plotted_image.text((x0, y0 - 10), class_id_to_name_mapping.get(int(obj_cls), 'Unknown'))\n",
    "    \n",
    "    plt.imshow(np.array(image))\n",
    "    plt.show()\n",
    "\n",
    "annotations = [x for x in os.listdir('./annotations') if x[-3:] == \"txt\"]\n",
    "annotation_file = random.choice(annotations)\n",
    "with open(\"./annotations/\"+annotation_file, \"r\") as file:\n",
    "    annotation_list = file.read().split(\"\\n\")[:-1]\n",
    "    annotation_list = [x.split(\" \") for x in annotation_list]\n",
    "    annotation_list = [[float(y) for y in x ] for x in annotation_list]\n",
    "\n",
    "print(annotation_file)\n",
    "#Get the corresponding image file\n",
    "image_file = \"./images/\"+annotation_file.replace(\"txt\", \"png\")\n",
    "#assert os.path.exists(image_file)\n",
    "\n",
    "#Load the image\n",
    "image = Image.open(image_file)\n",
    "\n",
    "#Plot the Bounding Box\n",
    "plot_bounding_box(image, annotation_list)"
   ]
  },
  {
   "cell_type": "code",
   "execution_count": null,
   "id": "6925d180-5f1e-46ee-8e61-cb705e44bf2c",
   "metadata": {
    "tags": []
   },
   "outputs": [],
   "source": [
    "# Read images and annotations->\n",
    "images = [os.path.join('./images', x) for x in os.listdir('images')]\n",
    "annotations = [os.path.join('./annotations', x) for x in os.listdir('annotations') if x[-3:] == \"txt\"]\n",
    "\n",
    "images.sort()\n",
    "annotations.sort()\n",
    "\n",
    "# train-valid-test splits \n",
    "train_images, test_images, train_annotations, test_annotations = train_test_split(images, annotations, test_size = 0.2, random_state = 1)\n"
   ]
  },
  {
   "cell_type": "code",
   "execution_count": null,
   "id": "3ab4b880-ac81-40ee-845f-6e9bde1d659f",
   "metadata": {},
   "outputs": [],
   "source": [
    "shutil.os.makedirs(\"./images/train/\", exist_ok=True)\n",
    "shutil.os.makedirs(\"./images/test/\", exist_ok=True)\n",
    "shutil.os.makedirs(\"./annotations/train/\", exist_ok=True)\n",
    "shutil.os.makedirs(\"./annotations/test/\", exist_ok=True)\n",
    "\n",
    "#Utility function to move images \n",
    "def move_files_to_folder(list_of_files, destination_folder):\n",
    "    for f in list_of_files:\n",
    "        try:\n",
    "            shutil.copy(f, destination_folder)\n",
    "        except:\n",
    "            print(f)\n",
    "            assert False\n",
    "\n",
    "# Move the splits into their folders\n",
    "move_files_to_folder(train_images, 'images/train')\n",
    "move_files_to_folder(test_images, 'images/test/')\n",
    "move_files_to_folder(train_annotations, 'annotations/train/')\n",
    "move_files_to_folder(test_annotations, 'annotations/test/')"
   ]
  },
  {
   "cell_type": "markdown",
   "id": "d89b9d52-28e8-4381-88a5-0e60f061150b",
   "metadata": {},
   "source": [
    "For recover issues, delete images if there is not any error occured"
   ]
  },
  {
   "cell_type": "code",
   "execution_count": null,
   "id": "3616e215-4074-4a4d-a6ee-d5f93f92b101",
   "metadata": {},
   "outputs": [],
   "source": [
    "import os\n",
    "\n",
    "folder_path = './images' \n",
    "\n",
    "# Iterate through files in the folder\n",
    "for filename in os.listdir(folder_path):\n",
    "    if filename.endswith('.png'):\n",
    "        file_path = os.path.join(folder_path, filename)\n",
    "        try:\n",
    "            os.remove(file_path)  # Delete the .png file\n",
    "            print(f\"Deleted: {filename}\")\n",
    "        except OSError as e:\n",
    "            print(f\"Error deleting {filename}: {e}\")\n",
    "\n",
    "print(\"Done deleting .png files.\")"
   ]
  },
  {
   "cell_type": "code",
   "execution_count": null,
   "id": "2d2f8fc9-e2ea-4b06-bbbd-402a69a9ba15",
   "metadata": {},
   "outputs": [],
   "source": [
    "import os\n",
    "\n",
    "folder_path = './annotations' \n",
    "\n",
    "# Iterate through files in the folder\n",
    "for filename in os.listdir(folder_path):\n",
    "    if filename.endswith('.txt'):\n",
    "        file_path = os.path.join(folder_path, filename)\n",
    "        try:\n",
    "            os.remove(file_path)  # Delete the .png file\n",
    "            print(f\"Deleted: {filename}\")\n",
    "        except OSError as e:\n",
    "            print(f\"Error deleting {filename}: {e}\")\n",
    "\n",
    "print(\"Done deleting .png files.\")"
   ]
  },
  {
   "cell_type": "code",
   "execution_count": null,
   "id": "8ed013fe-6297-45b9-bb2c-5d49ff23d6e4",
   "metadata": {},
   "outputs": [],
   "source": []
  },
  {
   "cell_type": "code",
   "execution_count": null,
   "id": "f7ae1a56-dd98-4f23-b13c-1d81f6d07c97",
   "metadata": {},
   "outputs": [],
   "source": []
  },
  {
   "cell_type": "code",
   "execution_count": null,
   "id": "25c34be2-c379-408a-b32e-f14247533a55",
   "metadata": {},
   "outputs": [],
   "source": []
  }
 ],
 "metadata": {
  "kernelspec": {
   "display_name": "mech",
   "language": "python",
   "name": "mech"
  },
  "language_info": {
   "codemirror_mode": {
    "name": "ipython",
    "version": 3
   },
   "file_extension": ".py",
   "mimetype": "text/x-python",
   "name": "python",
   "nbconvert_exporter": "python",
   "pygments_lexer": "ipython3",
   "version": "3.8.0"
  }
 },
 "nbformat": 4,
 "nbformat_minor": 5
}
